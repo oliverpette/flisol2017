{
  "nbformat": 4,
  "nbformat_minor": 0,
  "metadata": {
    "colab": {
      "name": "Preprocessing_Baseline.ipynb",
      "provenance": [],
      "collapsed_sections": [],
      "include_colab_link": true
    },
    "kernelspec": {
      "name": "python3",
      "display_name": "Python 3"
    },
    "language_info": {
      "name": "python"
    },
    "accelerator": "GPU"
  },
  "cells": [
    {
      "cell_type": "markdown",
      "metadata": {
        "id": "view-in-github",
        "colab_type": "text"
      },
      "source": [
        "<a href=\"https://colab.research.google.com/github/oliverpette/flisol2017/blob/master/Preprocessing_Baseline.ipynb\" target=\"_parent\"><img src=\"https://colab.research.google.com/assets/colab-badge.svg\" alt=\"Open In Colab\"/></a>"
      ]
    },
    {
      "cell_type": "markdown",
      "metadata": {
        "id": "ItPFznyv-r52"
      },
      "source": [
        "Pasta onde vamos clonar o projeto"
      ]
    },
    {
      "cell_type": "code",
      "metadata": {
        "colab": {
          "base_uri": "https://localhost:8080/"
        },
        "id": "A6E65G5rVH6O",
        "outputId": "57357cc6-2513-4418-81a1-88a2b2630613"
      },
      "source": [
        "from google.colab import drive\n",
        "drive.mount('/content/drive')"
      ],
      "execution_count": null,
      "outputs": [
        {
          "output_type": "stream",
          "text": [
            "Mounted at /content/drive\n"
          ],
          "name": "stdout"
        }
      ]
    },
    {
      "cell_type": "code",
      "metadata": {
        "colab": {
          "base_uri": "https://localhost:8080/"
        },
        "id": "y56IwEJcQSBv",
        "outputId": "feee01e2-1560-4ff6-a64f-c1f797ea5f7a"
      },
      "source": [
        "#cd \"/content/drive/MyDrive/Colab Notebooks/Competicao\""
      ],
      "execution_count": null,
      "outputs": [
        {
          "output_type": "stream",
          "text": [
            "/content/drive/MyDrive/Colab Notebooks/Competicao\n"
          ],
          "name": "stdout"
        }
      ]
    },
    {
      "cell_type": "code",
      "metadata": {
        "colab": {
          "base_uri": "https://localhost:8080/",
          "height": 35
        },
        "id": "wSekREmYQpWs",
        "outputId": "d71d40d4-a87f-46ed-8442-14793c7def08"
      },
      "source": [
        "#%pwd"
      ],
      "execution_count": null,
      "outputs": [
        {
          "output_type": "execute_result",
          "data": {
            "application/vnd.google.colaboratory.intrinsic+json": {
              "type": "string"
            },
            "text/plain": [
              "'/content/drive/My Drive/Colab Notebooks/Competicao'"
            ]
          },
          "metadata": {
            "tags": []
          },
          "execution_count": 2
        }
      ]
    },
    {
      "cell_type": "markdown",
      "metadata": {
        "id": "8Nyv1WMa-4FO"
      },
      "source": [
        "Projeto clonado de github"
      ]
    },
    {
      "cell_type": "code",
      "metadata": {
        "colab": {
          "base_uri": "https://localhost:8080/"
        },
        "id": "B8HkPFXhQrzK",
        "outputId": "a11515d3-291d-48ef-d1bc-38a63095d759"
      },
      "source": [
        "#!git clone https://github.com/l3das/L3DAS21.git"
      ],
      "execution_count": null,
      "outputs": [
        {
          "output_type": "stream",
          "text": [
            "Cloning into 'L3DAS21'...\n",
            "remote: Enumerating objects: 2083, done.\u001b[K\n",
            "remote: Counting objects: 100% (279/279), done.\u001b[K\n",
            "remote: Compressing objects: 100% (193/193), done.\u001b[K\n",
            "remote: Total 2083 (delta 179), reused 183 (delta 86), pack-reused 1804\u001b[K\n",
            "Receiving objects: 100% (2083/2083), 18.11 MiB | 13.77 MiB/s, done.\n",
            "Resolving deltas: 100% (1319/1319), done.\n"
          ],
          "name": "stdout"
        }
      ]
    },
    {
      "cell_type": "markdown",
      "metadata": {
        "id": "Vqpu0Cvj_DpA"
      },
      "source": [
        "Instalando o requerimentos para o projeto"
      ]
    },
    {
      "cell_type": "code",
      "metadata": {
        "id": "fQaOJCSYQ7oZ"
      },
      "source": [
        "#!pip install -r \"/content/drive/MyDrive/Colab Notebooks/Competicao/L3DAS21/requirements.txt\""
      ],
      "execution_count": null,
      "outputs": []
    },
    {
      "cell_type": "markdown",
      "metadata": {
        "id": "chO7wtBb_Les"
      },
      "source": [
        "Preprocessando os dados de treinamento que foram separados em tres diretórios: OV1, OV2, OV3."
      ]
    },
    {
      "cell_type": "code",
      "metadata": {
        "colab": {
          "base_uri": "https://localhost:8080/"
        },
        "id": "1VfVLHOtbHOe",
        "outputId": "8e343376-0e05-4ea4-d458-1bcc834f135c"
      },
      "source": [
        "!python \"/content/drive/MyDrive/L3DAS21_Challenge/preprocessing_train.py\" --task 2 --input_path \"/content/drive/MyDrive/L3DAS21_Challenge/Database/Unzip/OV1\" --output_path \"/content/drive/MyDrive/L3DAS21_Challenge/Database/processed/OV1\" --num_mics 1 --frame_len 100 --output_phase \"True\""
      ],
      "execution_count": null,
      "outputs": [
        {
          "output_type": "stream",
          "text": [
            "Processing /content/drive/MyDrive/L3DAS21_Challenge/Database/Unzip/OV1/L3DAS_Task2_train folder...\n",
            "Saving files\n"
          ],
          "name": "stdout"
        }
      ]
    },
    {
      "cell_type": "code",
      "metadata": {
        "colab": {
          "base_uri": "https://localhost:8080/"
        },
        "id": "9d1PU_UgDWkn",
        "outputId": "ad3908b2-6d4a-4507-d910-3a71c6995132"
      },
      "source": [
        "!python \"/content/drive/MyDrive/L3DAS21_Challenge/preprocessing_train.py\" --task 2 --input_path \"/content/drive/MyDrive/L3DAS21_Challenge/Database/Unzip/OV2\" --output_path \"/content/drive/MyDrive/L3DAS21_Challenge/Database/processed/OV2\" --num_mics 1 --frame_len 100 --output_phase \"True\""
      ],
      "execution_count": null,
      "outputs": [
        {
          "output_type": "stream",
          "text": [
            "Processing /content/drive/MyDrive/L3DAS21_Challenge/Database/Unzip/OV2/L3DAS_Task2_train folder...\n",
            "Saving files\n"
          ],
          "name": "stdout"
        }
      ]
    },
    {
      "cell_type": "code",
      "metadata": {
        "colab": {
          "base_uri": "https://localhost:8080/"
        },
        "id": "83LdgSn4DW_C",
        "outputId": "8c1ea114-ad90-4625-d150-e7409df19516"
      },
      "source": [
        "!python \"/content/drive/MyDrive/L3DAS21_Challenge/preprocessing_train.py\" --task 2 --input_path \"/content/drive/MyDrive/L3DAS21_Challenge/Database/Unzip/OV3\" --output_path \"/content/drive/MyDrive/L3DAS21_Challenge/Database/processed/OV3\" --num_mics 1 --frame_len 100 --output_phase \"True\""
      ],
      "execution_count": null,
      "outputs": [
        {
          "output_type": "stream",
          "text": [
            "Processing /content/drive/MyDrive/L3DAS21_Challenge/Database/Unzip/OV3/L3DAS_Task2_train folder...\n",
            "Saving files\n"
          ],
          "name": "stdout"
        }
      ]
    },
    {
      "cell_type": "markdown",
      "metadata": {
        "id": "P1PWccTXDmJ5"
      },
      "source": [
        "Preprocessando os dados de validação, não estão separados em OV1, OV2 e OV3"
      ]
    },
    {
      "cell_type": "code",
      "metadata": {
        "colab": {
          "base_uri": "https://localhost:8080/"
        },
        "id": "tNBfPUvja1NX",
        "outputId": "fb593478-7ff8-4056-c980-293067fb5f34"
      },
      "source": [
        "!python \"/content/drive/MyDrive/L3DAS21_Challenge/preprocessing_val.py\" --task 2 --input_path \"/content/drive/MyDrive/L3DAS21_Challenge/Database/Unzip/All_Database\" --output_path \"/content/drive/MyDrive/L3DAS21_Challenge/Database/processed/Validation\" --num_mics 1 --frame_len 100 --output_phase \"True\""
      ],
      "execution_count": null,
      "outputs": [
        {
          "output_type": "stream",
          "text": [
            "Processing /content/drive/MyDrive/L3DAS21_Challenge/Database/Unzip/All_Database/L3DAS_Task2_dev folder...\n",
            "tcmalloc: large alloc 5898240000 bytes == 0x564d7f844000 @  0x7ff4a728d1e7 0x7ff4a4e0d46e 0x7ff4a4e5dc7b 0x7ff4a4e60e83 0x7ff4a4e6107b 0x7ff4a4f02761 0x564c09138050 0x564c09137de0 0x564c091ac244 0x564c091a6e0d 0x564c0913977a 0x564c091a7a45 0x564c091a6b0e 0x564c091a6813 0x564c09270592 0x564c0927090d 0x564c092707b6 0x564c09248103 0x564c09247dac 0x7ff4a6077bf7 0x564c09247c8a\n",
            "Saving files\n",
            "tcmalloc: large alloc 5898248192 bytes == 0x564eef2dc000 @  0x7ff4a728d1e7 0x564c09169f48 0x564c091349c7 0x7ff4a4ef7b2d 0x564c0924d8ac 0x564c09138292 0x7ff4a4ef8a09 0x564c0924d8ac 0x564c09138f6e 0x564c09138e99 0x564c091e9b04 0x564c091e8aac 0x564c090da6a2 0x564c0913800c 0x564c09137de0 0x564c091ac6f5 0x564c091a6e0d 0x564c0913977a 0x564c091a7a45 0x564c091a6b0e 0x564c091a6813 0x564c09270592 0x564c0927090d 0x564c092707b6 0x564c09248103 0x564c09247dac 0x7ff4a6077bf7 0x564c09247c8a\n"
          ],
          "name": "stdout"
        }
      ]
    }
  ]
}